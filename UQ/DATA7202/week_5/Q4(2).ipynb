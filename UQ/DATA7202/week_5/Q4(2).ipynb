{
 "cells": [
  {
   "cell_type": "code",
   "execution_count": null,
   "metadata": {},
   "outputs": [],
   "source": [
    "# TicketInspectorMCMC.py"
   ]
  },
  {
   "cell_type": "code",
   "execution_count": null,
   "metadata": {},
   "outputs": [],
   "source": [
    "import numpy as np\n",
    "from scipy.stats import gamma"
   ]
  },
  {
   "cell_type": "code",
   "execution_count": null,
   "metadata": {},
   "outputs": [],
   "source": [
    "np.random.seed(12345)"
   ]
  },
  {
   "cell_type": "code",
   "execution_count": null,
   "metadata": {},
   "outputs": [],
   "source": [
    "x = 60"
   ]
  },
  {
   "cell_type": "code",
   "execution_count": null,
   "metadata": {},
   "outputs": [],
   "source": [
    "# simulation parameters\n",
    "N = 10000\n",
    "burnin = 1000"
   ]
  },
  {
   "cell_type": "code",
   "execution_count": null,
   "metadata": {},
   "outputs": [],
   "source": [
    "# array for theta recording\n",
    "# ell = [(k1,t1),(k2,t2),...,(k10000,t10000)]\n",
    "ell = np.zeros((N,2))\n",
    "ell"
   ]
  },
  {
   "cell_type": "code",
   "execution_count": null,
   "metadata": {},
   "outputs": [],
   "source": [
    "# initial values\n",
    "t = 1\n",
    "k = 1"
   ]
  },
  {
   "cell_type": "code",
   "execution_count": null,
   "metadata": {},
   "outputs": [],
   "source": [
    "# Main MCMC loop\n",
    "for i in range(N+burnin):\n",
    "    # sample k\n",
    "    # prob =[p_route1,p_route2,p_route_3]\n",
    "    prob = [np.exp(-12*t), np.exp(-21*t)*(2**(x-1)), np.exp(-30.6667*t)*(3**(x-1))]\n",
    "    prob = prob/np.sum(prob)  # sum[p1,p2,p3]=1\n",
    "    k = np.random.choice([1,2,3], 1, p=prob)\n",
    "    \n",
    "    # sample t\n",
    "    alpha = x+1\n",
    "    betta = 2/k + 10*k\n",
    "    t = gamma.rvs(a = alpha,scale = 1/betta)\n",
    "    \n",
    "    if(i>=burnin):\n",
    "        ell[i-burnin][0] = k\n",
    "        ell[i-burnin][1] = t\n",
    "        \n",
    "print(\"ell:\", ell)\n",
    "print(\"P(k=1 | x=60 ) = \",np.mean(ell[:,0]==1))\n",
    "print(\"P(k=2 | x=60 ) = \",np.mean(ell[:,0]==2))\n",
    "print(\"P(k=3 | x=60 ) = \",np.mean(ell[:,0]==3))"
   ]
  },
  {
   "cell_type": "code",
   "execution_count": null,
   "metadata": {},
   "outputs": [],
   "source": []
  }
 ],
 "metadata": {
  "kernelspec": {
   "display_name": "Python 3",
   "language": "python",
   "name": "python3"
  },
  "language_info": {
   "codemirror_mode": {
    "name": "ipython",
    "version": 3
   },
   "file_extension": ".py",
   "mimetype": "text/x-python",
   "name": "python",
   "nbconvert_exporter": "python",
   "pygments_lexer": "ipython3",
   "version": "3.7.6"
  }
 },
 "nbformat": 4,
 "nbformat_minor": 4
}
